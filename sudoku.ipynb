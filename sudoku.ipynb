{
 "cells": [
  {
   "cell_type": "code",
   "execution_count": 5,
   "id": "34d795c9",
   "metadata": {},
   "outputs": [
    {
     "name": "stdout",
     "output_type": "stream",
     "text": [
      "50\n"
     ]
    }
   ],
   "source": [
    "import cv2\n",
    "rootdir = 'C:/Users/fateme/Desktop/PyClass/PyCourse-23/sudoku'\n",
    "org=cv2.imread(rootdir+'/sudoku.tif')\n",
    "org=cv2.cvtColor(org,cv2.COLOR_RGB2GRAY)\n",
    "org=cv2.equalizeHist(org)\n",
    "org=cv2.resize(org,(500,500))\n",
    "\n",
    "f=False\n",
    "for i in range(org.shape[0]):\n",
    "    for j in range(org.shape[1]):\n",
    "        if org[i, j] <50:\n",
    "            y1 = j\n",
    "            x1 = i\n",
    "            print(x1)\n",
    "            f = True\n",
    "            break\n",
    "\n",
    "    if f == True:\n",
    "        break\n",
    "f=False\n",
    "for i in range(org.shape[0] - 1, 0, -1):\n",
    "    for j in range(org.shape[1] - 1, 0, -1):\n",
    "        if org[i, j] <50:\n",
    "            y2 = j\n",
    "            x2 = i\n",
    "            f= True\n",
    "            break\n",
    "\n",
    "    if f == True:\n",
    "        break\n",
    "    \n",
    "org = org[x1:x2, y1:y2]\n",
    "m=org.shape[0]//9\n",
    "n=org.shape[1]//9\n",
    "global c,cj,ci\n",
    "ci=0\n",
    "for i in range(0,org.shape[0],m):\n",
    "    cj=0\n",
    "    \n",
    "    for j in range(0,org.shape[1],n):\n",
    "        c=0\n",
    "        for xx in range (i+5,i+m-5):\n",
    "            for yy in range(j+5,j+n-5):\n",
    "                if org[xx,yy] <=70:\n",
    "                    c+=1\n",
    "        if c>50:\n",
    "            org3=org[i+3:i+m,j+3:j+n]\n",
    "            cv2.imwrite(rootdir+'/'+str(i)+str(j)+'.jpg',org3)\n",
    "        cj+=1\n",
    "        if cj>=9:\n",
    "            break\n",
    "    ci+=1\n",
    "    if ci>=9:\n",
    "        break\n"
   ]
  },
  {
   "cell_type": "code",
   "execution_count": null,
   "id": "b8f327e0",
   "metadata": {},
   "outputs": [],
   "source": []
  }
 ],
 "metadata": {
  "kernelspec": {
   "display_name": "Python 3",
   "language": "python",
   "name": "python3"
  },
  "language_info": {
   "codemirror_mode": {
    "name": "ipython",
    "version": 3
   },
   "file_extension": ".py",
   "mimetype": "text/x-python",
   "name": "python",
   "nbconvert_exporter": "python",
   "pygments_lexer": "ipython3",
   "version": "3.9.0"
  }
 },
 "nbformat": 4,
 "nbformat_minor": 5
}
