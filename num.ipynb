{
 "cells": [
  {
   "cell_type": "code",
   "execution_count": 23,
   "id": "6832e145",
   "metadata": {},
   "outputs": [
    {
     "name": "stdout",
     "output_type": "stream",
     "text": [
      "directory exists now !!!!\n"
     ]
    }
   ],
   "source": [
    "import os\n",
    "import cv2\n",
    "c=0\n",
    "rootdir = 'C:/Users/fateme/Desktop/PyClass/PyCourse-23/numbers'\n",
    "readir=rootdir+'/MNIST_persian'\n",
    "for it in os.scandir(readir):\n",
    "    if it.is_dir():\n",
    "        c+=1\n",
    "        lenght=len(os.listdir(it))\n",
    "\n",
    "for i in range(lenght):\n",
    "    try:\n",
    "        os.makedirs(rootdir+'/'+str(i))\n",
    "        dr=rootdir+'/' + str(i)\n",
    "    except FileExistsError:\n",
    "        print('directory exists now !!!!')\n",
    "        break\n",
    "    for j in range(1,c+1):\n",
    "        read = readir+'/' + str(j) + '/' + str(i) + '.jpg'\n",
    "        write =  dr+'/'+str(j) + '.jpg'\n",
    "        final = cv2.imread(read)\n",
    "        cv2.imwrite(write,final)      "
   ]
  },
  {
   "cell_type": "code",
   "execution_count": null,
   "id": "4372ee2e",
   "metadata": {},
   "outputs": [],
   "source": []
  },
  {
   "cell_type": "code",
   "execution_count": null,
   "id": "686e092a",
   "metadata": {},
   "outputs": [],
   "source": []
  },
  {
   "cell_type": "code",
   "execution_count": null,
   "id": "ca5bc254",
   "metadata": {},
   "outputs": [],
   "source": []
  }
 ],
 "metadata": {
  "kernelspec": {
   "display_name": "Python 3",
   "language": "python",
   "name": "python3"
  },
  "language_info": {
   "codemirror_mode": {
    "name": "ipython",
    "version": 3
   },
   "file_extension": ".py",
   "mimetype": "text/x-python",
   "name": "python",
   "nbconvert_exporter": "python",
   "pygments_lexer": "ipython3",
   "version": "3.9.0"
  }
 },
 "nbformat": 4,
 "nbformat_minor": 5
}
