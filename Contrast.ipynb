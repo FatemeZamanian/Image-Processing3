{
 "cells": [
  {
   "cell_type": "code",
   "execution_count": 30,
   "id": "6628ae7d",
   "metadata": {},
   "outputs": [
    {
     "data": {
      "text/plain": [
       "-1"
      ]
     },
     "execution_count": 30,
     "metadata": {},
     "output_type": "execute_result"
    }
   ],
   "source": [
    "import cv2\n",
    "rootdir = 'C:/Users/fateme/Desktop/PyClass/PyCourse-23/Contrast'\n",
    "org=cv2.imread(rootdir+'/low.png')\n",
    "org=cv2.cvtColor(org,cv2.COLOR_RGB2GRAY)\n",
    "a=2\n",
    "b=220\n",
    "new = a * org + b\n",
    "cv2.imshow('',new)\n",
    "cv2.waitKey()"
   ]
  },
  {
   "cell_type": "code",
   "execution_count": null,
   "id": "78455ba3",
   "metadata": {},
   "outputs": [],
   "source": []
  },
  {
   "cell_type": "code",
   "execution_count": null,
   "id": "7f5432d4",
   "metadata": {},
   "outputs": [],
   "source": []
  }
 ],
 "metadata": {
  "kernelspec": {
   "display_name": "Python 3",
   "language": "python",
   "name": "python3"
  },
  "language_info": {
   "codemirror_mode": {
    "name": "ipython",
    "version": 3
   },
   "file_extension": ".py",
   "mimetype": "text/x-python",
   "name": "python",
   "nbconvert_exporter": "python",
   "pygments_lexer": "ipython3",
   "version": "3.9.0"
  }
 },
 "nbformat": 4,
 "nbformat_minor": 5
}
